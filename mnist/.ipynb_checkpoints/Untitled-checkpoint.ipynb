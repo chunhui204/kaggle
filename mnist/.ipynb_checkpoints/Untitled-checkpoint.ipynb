{
 "cells": [
  {
   "cell_type": "code",
   "execution_count": 14,
   "metadata": {
    "collapsed": true
   },
   "outputs": [],
   "source": [
    "import numpy as np\n",
    "import pandas as pd\n",
    "import matplotlib.pyplot as plt\n",
    "import tensorflow as tf\n",
    "import time\n",
    "from sklearn.preprocessing import OneHotEncoder\n",
    "%matplotlib inline"
   ]
  },
  {
   "cell_type": "code",
   "execution_count": 15,
   "metadata": {},
   "outputs": [
    {
     "data": {
      "text/html": [
       "<div>\n",
       "<style>\n",
       "    .dataframe thead tr:only-child th {\n",
       "        text-align: right;\n",
       "    }\n",
       "\n",
       "    .dataframe thead th {\n",
       "        text-align: left;\n",
       "    }\n",
       "\n",
       "    .dataframe tbody tr th {\n",
       "        vertical-align: top;\n",
       "    }\n",
       "</style>\n",
       "<table border=\"1\" class=\"dataframe\">\n",
       "  <thead>\n",
       "    <tr style=\"text-align: right;\">\n",
       "      <th></th>\n",
       "      <th>label</th>\n",
       "      <th>pixel0</th>\n",
       "      <th>pixel1</th>\n",
       "      <th>pixel2</th>\n",
       "      <th>pixel3</th>\n",
       "      <th>pixel4</th>\n",
       "      <th>pixel5</th>\n",
       "      <th>pixel6</th>\n",
       "      <th>pixel7</th>\n",
       "      <th>pixel8</th>\n",
       "      <th>...</th>\n",
       "      <th>pixel774</th>\n",
       "      <th>pixel775</th>\n",
       "      <th>pixel776</th>\n",
       "      <th>pixel777</th>\n",
       "      <th>pixel778</th>\n",
       "      <th>pixel779</th>\n",
       "      <th>pixel780</th>\n",
       "      <th>pixel781</th>\n",
       "      <th>pixel782</th>\n",
       "      <th>pixel783</th>\n",
       "    </tr>\n",
       "  </thead>\n",
       "  <tbody>\n",
       "    <tr>\n",
       "      <th>0</th>\n",
       "      <td>1</td>\n",
       "      <td>0</td>\n",
       "      <td>0</td>\n",
       "      <td>0</td>\n",
       "      <td>0</td>\n",
       "      <td>0</td>\n",
       "      <td>0</td>\n",
       "      <td>0</td>\n",
       "      <td>0</td>\n",
       "      <td>0</td>\n",
       "      <td>...</td>\n",
       "      <td>0</td>\n",
       "      <td>0</td>\n",
       "      <td>0</td>\n",
       "      <td>0</td>\n",
       "      <td>0</td>\n",
       "      <td>0</td>\n",
       "      <td>0</td>\n",
       "      <td>0</td>\n",
       "      <td>0</td>\n",
       "      <td>0</td>\n",
       "    </tr>\n",
       "  </tbody>\n",
       "</table>\n",
       "<p>1 rows × 785 columns</p>\n",
       "</div>"
      ],
      "text/plain": [
       "   label  pixel0  pixel1  pixel2  pixel3  pixel4  pixel5  pixel6  pixel7  \\\n",
       "0      1       0       0       0       0       0       0       0       0   \n",
       "\n",
       "   pixel8    ...     pixel774  pixel775  pixel776  pixel777  pixel778  \\\n",
       "0       0    ...            0         0         0         0         0   \n",
       "\n",
       "   pixel779  pixel780  pixel781  pixel782  pixel783  \n",
       "0         0         0         0         0         0  \n",
       "\n",
       "[1 rows x 785 columns]"
      ]
     },
     "execution_count": 15,
     "metadata": {},
     "output_type": "execute_result"
    }
   ],
   "source": [
    "train = pd.read_csv(\"train.csv\")\n",
    "train.head(1)"
   ]
  },
  {
   "cell_type": "code",
   "execution_count": 16,
   "metadata": {},
   "outputs": [
    {
     "name": "stderr",
     "output_type": "stream",
     "text": [
      "/home/chunhui/anaconda3/lib/python3.6/site-packages/ipykernel_launcher.py:2: FutureWarning: reshape is deprecated and will raise in a subsequent release. Please use .values.reshape(...) instead\n",
      "  \n"
     ]
    },
    {
     "data": {
      "text/plain": [
       "<matplotlib.image.AxesImage at 0x7fb9c4849be0>"
      ]
     },
     "execution_count": 16,
     "metadata": {},
     "output_type": "execute_result"
    },
    {
     "data": {
      "image/png": "[encoded data removed]",
      "text/plain": [
       "<matplotlib.figure.Figure at 0x7fb9c394f320>"
      ]
     },
     "metadata": {},
     "output_type": "display_data"
    }
   ],
   "source": [
    "plt.title(\"number of %d\" %train['label'][0])\n",
    "plt.imshow(train.drop(['label'], axis=1).iloc[0,:].reshape(28,28))"
   ]
  },
  {
   "cell_type": "code",
   "execution_count": 17,
   "metadata": {},
   "outputs": [
    {
     "data": {
      "text/plain": [
       "(42000, 785)"
      ]
     },
     "execution_count": 17,
     "metadata": {},
     "output_type": "execute_result"
    }
   ],
   "source": [
    "train.shape"
   ]
  },
  {
   "cell_type": "code",
   "execution_count": 18,
   "metadata": {
    "collapsed": true
   },
   "outputs": [],
   "source": [
    "np.random.seed(1)\n",
    "idx = np.random.permutation(train.shape[0])\n",
    "mnist_train = train.iloc[idx[:40000],:]\n",
    "mnist_validation = train.iloc[idx[40000:],:]"
   ]
  },
  {
   "cell_type": "code",
   "execution_count": 11,
   "metadata": {
    "collapsed": true
   },
   "outputs": [],
   "source": [
    "def random_mini_batches(X, Y, batch_size, seed=1):\n",
    "    np.random.seed(seed)\n",
    "    permutation  = np.random.permutation(X.shape[0])\n",
    "    X = X[permutation,:]\n",
    "    Y = Y[permutation,:]\n",
    "    num_batch = int(X.shape[0]/batch_size)\n",
    "    batches=[]\n",
    "    for i in range(num_batch):\n",
    "        mini_X = X[i*batch_size:(i+1)*batch_size,:]\n",
    "        mini_Y = Y[i*batch_size:(i+1)*batch_size,:]\n",
    "        batches.append((mini_X, mini_Y))\n",
    "    if X.shape[0]%batch_size != 0:\n",
    "        mini_X = X[num_batch*batch_size:,:]\n",
    "        mini_Y = Y[num_batch*batch_size:,:]\n",
    "        batches.append((mini_X, mini_Y))\n",
    "    return batches"
   ]
  },
  {
   "cell_type": "code",
   "execution_count": 13,
   "metadata": {},
   "outputs": [
    {
     "name": "stdout",
     "output_type": "stream",
     "text": [
      "359.32600000000025\n"
     ]
    }
   ],
   "source": [
    "s = time.clock()\n",
    "b  = random_mini_batches(mnist_train_images, mnist_train_labels,128)\n",
    "e = time.clock()\n",
    "print(1000*(e-s))"
   ]
  },
  {
   "cell_type": "code",
   "execution_count": 28,
   "metadata": {
    "collapsed": true
   },
   "outputs": [],
   "source": [
    "def model(data, labels, test, learning_rate_base=0.001, num_epoch=30000, batch_size=128, L2_lambd=0.0003 ,keep_prob=1.0):\n",
    "    tf.reset_default_graph()\n",
    "    #placeholder\n",
    "    X = tf.placeholder(tf.float32, shape=(None,28,28,1),name=\"X\")\n",
    "    Y = tf.placeholder(tf.float32, shape=(None,10),name=\"Y\")\n",
    "    dropout_op = tf.placeholder(tf.float32)\n",
    "    #froward conv and pool\n",
    "    W1 = tf.get_variable(\"W1\", shape=(5,5,1,32), initializer=tf.truncated_normal_initializer(stddev=0.1))\n",
    "    b1 = tf.get_variable(\"b1\", shape=(32), initializer=tf.constant_initializer(0.))\n",
    "    W2 = tf.get_variable(\"W2\",shape=(5,5,32,64), initializer=tf.truncated_normal_initializer(stddev=0.1))\n",
    "    b2 = tf.get_variable(\"b2\", shape=(64), initializer=tf.constant_initializer(0.))\n",
    "    \n",
    "    conv_1 = tf.nn.conv2d(X, W1, strides=(1,1,1,1), padding=\"SAME\")\n",
    "    conv_1 = tf.nn.relu(conv_1 + b1)\n",
    "    pool_1 = tf.nn.max_pool(conv_1, ksize=(1,2,2,1), strides=(1,2,2,1), padding=\"SAME\")\n",
    "    conv_2 = tf.nn.conv2d(pool_1, W2, strides=(1,1,1,1), padding=\"SAME\")\n",
    "    conv_2 = tf.nn.relu(conv_2+b2)\n",
    "    pool_2 = tf.nn.max_pool(conv_2, ksize=(1,2,2,1), strides=(1,2,2,1), padding=\"SAME\")\n",
    "    #forward fullconnection\n",
    "    pool_2 = tf.contrib.layers.flatten(pool_2)\n",
    "    \n",
    "    W3 = tf.get_variable(\"W3\", shape=(3136, 512), initializer=tf.truncated_normal_initializer(stddev=0.1))\n",
    "    b3 = tf.get_variable(\"b3\", shape=(1, 512), initializer=tf.constant_initializer(0.1))\n",
    "    fc_1 = tf.nn.relu(tf.matmul(pool_2, W3) + b3)\n",
    "    if L2_lambd != 0 :\n",
    "        loss = tf.contrib.layers.l2_regularizer(L2_lambd)(W3)\n",
    "        tf.add_to_collection(\"loss\", loss)\n",
    "    if keep_prob != 0:\n",
    "        fc_1 = tf.nn.dropout(fc_1, dropout_op)\n",
    "    \n",
    "    W4 = tf.get_variable(\"W4\", shape=(512, 10), initializer=tf.truncated_normal_initializer(stddev=0.1))\n",
    "    b4 = tf.get_variable(\"b4\", shape=(1, 10), initializer=tf.constant_initializer(0.1))\n",
    "    Z4 = tf.matmul(fc_1, W4) + b4\n",
    "#     fc_2 = tf.nn.relu(tf.matmul(fc_1, W4) + b4)\n",
    "    if L2_lambd != 0 :\n",
    "        loss = tf.contrib.layers.l2_regularizer(L2_lambd)(W4)\n",
    "        tf.add_to_collection(\"loss\", loss)\n",
    "#     if keep_prob != 0:\n",
    "#         fc_2 = tf.nn.dropout(fc_2, dropout_op)\n",
    "    #compute cost\n",
    "    cost = tf.reduce_mean(tf.nn.softmax_cross_entropy_with_logits(logits=Z4, labels=Y)) \n",
    "    if L2_lambd != 0:\n",
    "        cost = cost + tf.add_n(tf.get_collection(\"loss\"))\n",
    "    #train\n",
    "    global_step = tf.Variable(0, trainable=False)\n",
    "    learning_rate = tf.train.exponential_decay(learning_rate_base,\n",
    "                                              global_step,\n",
    "                                              data.shape[0]/batch_size,\n",
    "                                              0.99)\n",
    "    optimizer = tf.train.AdamOptimizer(learning_rate).minimize(cost, global_step = global_step)\n",
    "    #mini-batch\n",
    "    input_queue = tf.train.slice_input_producer([data, labels], shuffle=True)\n",
    "    image_batch, label_batch = tf.train.batch(input_queue, batch_size=batch_size, capacity=64)\n",
    "    #prediction\n",
    "    prediction = tf.cast(tf.argmax(Z4, axis=1), tf.float32)\n",
    "    accuracy = tf.reduce_mean(tf.cast(tf.equal(tf.argmax(Y, 1), tf.argmax(Z4, 1)), tf.float32))\n",
    "    \n",
    "    train_cost = []\n",
    "    with tf.Session() as sess:\n",
    "        tf.global_variables_initializer().run()\n",
    "        coord=tf.train.Coordinator()\n",
    "        threads= tf.train.start_queue_runners(sess = sess,coord=coord)\n",
    "        seed = 0\n",
    "        for epoch in range(num_epoch):\n",
    "            #mini batch\n",
    "            mini_batch_X, mini_batch_Y = sess.run([image_batch, label_batch])\n",
    "            c, _ = sess.run([cost, optimizer], feed_dict={X: mini_batch_X.reshape(-1,28,28,1), Y: mini_batch_Y, dropout_op:keep_prob})\n",
    "            \n",
    "            if epoch % 10 ==0:\n",
    "                train_cost.append(c/batch_size)\n",
    "            if epoch%1000 == 0:\n",
    "                valid_acc = accuracy.eval({X:mnist_validation_images.reshape(-1,28,28,1), Y:mnist_validation_labels, dropout_op:1.0})\n",
    "                print(\"%d epoch, validation accuracy: %g\" %(epoch, valid_acc))\n",
    "                print(\"%d epoch, train cost: %g\" %(epoch, c/batch_size))\n",
    "                print(\"--------------------------------------------------------\")\n",
    "        y_pred = prediction.eval({X:test.reshape(-1,28,28,1), Y:None, dropout_op:1.0})\n",
    "        df = pd.DataFrame(np.arange(test.shape[0]), columns=['ImageId'])\n",
    "        df['Label'] = y_pred\n",
    "        df.to_csv(\"y_pred.csv\", index=False)\n",
    "#         print(\"%d epoch, test accuracy: %g\"%(epoch, test_acc))\n",
    "        plt.plot(np.squeeze(train_cost))\n",
    "        coord.request_stop()\n",
    "        coord.join(threads)\n",
    "        "
   ]
  },
  {
   "cell_type": "code",
   "execution_count": 25,
   "metadata": {
    "collapsed": true
   },
   "outputs": [],
   "source": [
    "mnist_validation_images = mnist_validation.drop(['label'], axis=1).values\n",
    "mnist_validation_labels = pd.get_dummies(mnist_validation['label']).values\n",
    "mnist_train_images = mnist_train.drop(['label'], axis=1).values\n",
    "mnist_train_labels = pd.get_dummies(mnist_train['label']).values"
   ]
  },
  {
   "cell_type": "code",
   "execution_count": null,
   "metadata": {
    "collapsed": true
   },
   "outputs": [],
   "source": []
  },
  {
   "cell_type": "code",
   "execution_count": 26,
   "metadata": {},
   "outputs": [
    {
     "name": "stdout",
     "output_type": "stream",
     "text": [
      "0 epoch, validation accuracy: 0.2195\n",
      "0 epoch, train cost: 7.77077\n",
      "--------------------------------------------------------\n",
      "1000 epoch, validation accuracy: 0.957\n",
      "1000 epoch, train cost: 0.0129033\n",
      "--------------------------------------------------------\n",
      "2000 epoch, validation accuracy: 0.96\n",
      "2000 epoch, train cost: 0.0103999\n",
      "--------------------------------------------------------\n",
      "3000 epoch, validation accuracy: 0.957\n",
      "3000 epoch, train cost: 0.00837443\n",
      "--------------------------------------------------------\n",
      "4000 epoch, validation accuracy: 0.9655\n",
      "4000 epoch, train cost: 0.00701965\n",
      "--------------------------------------------------------\n",
      "5000 epoch, validation accuracy: 0.973\n",
      "5000 epoch, train cost: 0.00600184\n",
      "--------------------------------------------------------\n",
      "6000 epoch, validation accuracy: 0.9565\n",
      "6000 epoch, train cost: 0.00499298\n",
      "--------------------------------------------------------\n",
      "7000 epoch, validation accuracy: 0.971\n",
      "7000 epoch, train cost: 0.00384591\n",
      "--------------------------------------------------------\n",
      "8000 epoch, validation accuracy: 0.973\n",
      "8000 epoch, train cost: 0.0022755\n",
      "--------------------------------------------------------\n",
      "9000 epoch, validation accuracy: 0.9715\n",
      "9000 epoch, train cost: 0.00177496\n",
      "--------------------------------------------------------\n",
      "10000 epoch, validation accuracy: 0.977\n",
      "10000 epoch, train cost: 0.00130173\n",
      "--------------------------------------------------------\n",
      "11000 epoch, validation accuracy: 0.9765\n",
      "11000 epoch, train cost: 0.0008987\n",
      "--------------------------------------------------------\n",
      "12000 epoch, validation accuracy: 0.9825\n",
      "12000 epoch, train cost: 0.000655732\n",
      "--------------------------------------------------------\n",
      "13000 epoch, validation accuracy: 0.9815\n",
      "13000 epoch, train cost: 0.00107626\n",
      "--------------------------------------------------------\n",
      "14000 epoch, validation accuracy: 0.979\n",
      "14000 epoch, train cost: 0.000722715\n",
      "--------------------------------------------------------\n",
      "15000 epoch, validation accuracy: 0.9795\n",
      "15000 epoch, train cost: 0.000966396\n",
      "--------------------------------------------------------\n",
      "16000 epoch, validation accuracy: 0.982\n",
      "16000 epoch, train cost: 0.000451312\n",
      "--------------------------------------------------------\n",
      "17000 epoch, validation accuracy: 0.9845\n",
      "17000 epoch, train cost: 0.000399588\n",
      "--------------------------------------------------------\n",
      "18000 epoch, validation accuracy: 0.9805\n",
      "18000 epoch, train cost: 0.000348669\n",
      "--------------------------------------------------------\n",
      "19000 epoch, validation accuracy: 0.9805\n",
      "19000 epoch, train cost: 0.00239708\n",
      "--------------------------------------------------------\n",
      "20000 epoch, validation accuracy: 0.985\n",
      "20000 epoch, train cost: 0.000316248\n",
      "--------------------------------------------------------\n",
      "21000 epoch, validation accuracy: 0.983\n",
      "21000 epoch, train cost: 0.000242712\n",
      "--------------------------------------------------------\n",
      "22000 epoch, validation accuracy: 0.978\n",
      "22000 epoch, train cost: 0.000330479\n",
      "--------------------------------------------------------\n",
      "23000 epoch, validation accuracy: 0.981\n",
      "23000 epoch, train cost: 0.000230022\n",
      "--------------------------------------------------------\n",
      "24000 epoch, validation accuracy: 0.981\n",
      "24000 epoch, train cost: 0.000264817\n",
      "--------------------------------------------------------\n",
      "25000 epoch, validation accuracy: 0.988\n",
      "25000 epoch, train cost: 0.000180837\n",
      "--------------------------------------------------------\n",
      "26000 epoch, validation accuracy: 0.984\n",
      "26000 epoch, train cost: 0.00018471\n",
      "--------------------------------------------------------\n",
      "27000 epoch, validation accuracy: 0.9855\n",
      "27000 epoch, train cost: 0.000157947\n",
      "--------------------------------------------------------\n",
      "28000 epoch, validation accuracy: 0.9875\n",
      "28000 epoch, train cost: 0.000166019\n",
      "--------------------------------------------------------\n",
      "29000 epoch, validation accuracy: 0.9845\n",
      "29000 epoch, train cost: 0.000152531\n",
      "--------------------------------------------------------\n"
     ]
    },
    {
     "data": {
      "image/png": "[encoded data removed]",
      "text/plain": [
       "<matplotlib.figure.Figure at 0x7fb9939c0fd0>"
      ]
     },
     "metadata": {},
     "output_type": "display_data"
    }
   ],
   "source": [
    "model(mnist_train_images, mnist_train_labels)"
   ]
  },
  {
   "cell_type": "code",
   "execution_count": 27,
   "metadata": {},
   "outputs": [
    {
     "ename": "NameError",
     "evalue": "name 'train_cost' is not defined",
     "output_type": "error",
     "traceback": [
      "\u001b[0;31m---------------------------------------------------------------------------\u001b[0m",
      "\u001b[0;31mNameError\u001b[0m                                 Traceback (most recent call last)",
      "\u001b[0;32m<ipython-input-27-8984c19d8015>\u001b[0m in \u001b[0;36m<module>\u001b[0;34m()\u001b[0m\n\u001b[0;32m----> 1\u001b[0;31m \u001b[0mprint\u001b[0m\u001b[0;34m(\u001b[0m\u001b[0mtrain_cost\u001b[0m\u001b[0;34m)\u001b[0m\u001b[0;34m\u001b[0m\u001b[0m\n\u001b[0m",
      "\u001b[0;31mNameError\u001b[0m: name 'train_cost' is not defined"
     ]
    }
   ],
   "source": [
    "print(train_cost)"
   ]
  },
  {
   "cell_type": "code",
   "execution_count": null,
   "metadata": {
    "collapsed": true
   },
   "outputs": [],
   "source": []
  }
 ],
 "metadata": {
  "kernelspec": {
   "display_name": "Python 3",
   "language": "python",
   "name": "python3"
  },
  "language_info": {
   "codemirror_mode": {
    "name": "ipython",
    "version": 3
   },
   "file_extension": ".py",
   "mimetype": "text/x-python",
   "name": "python",
   "nbconvert_exporter": "python",
   "pygments_lexer": "ipython3",
   "version": "3.6.2"
  }
 },
 "nbformat": 4,
 "nbformat_minor": 2
}
